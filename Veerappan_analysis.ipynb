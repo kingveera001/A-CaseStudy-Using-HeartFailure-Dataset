{
  "nbformat": 4,
  "nbformat_minor": 0,
  "metadata": {
    "colab": {
      "provenance": []
    },
    "kernelspec": {
      "name": "python3",
      "display_name": "Python 3"
    },
    "language_info": {
      "name": "python"
    }
  },
  "cells": [
    {
      "cell_type": "code",
      "execution_count": 1,
      "metadata": {
        "colab": {
          "base_uri": "https://localhost:8080/"
        },
        "id": "4HH6lfvB0DYJ",
        "outputId": "253e2203-b85f-45c2-9f18-366f7daa2125"
      },
      "outputs": [
        {
          "output_type": "stream",
          "name": "stdout",
          "text": [
            "Libraries imported successfully!\n"
          ]
        }
      ],
      "source": [
        "# Cell 1: Imports and Setup\n",
        "import pandas as pd\n",
        "import numpy as np\n",
        "from scipy import stats\n",
        "import statsmodels.api as sm\n",
        "from statsmodels.stats.multicomp import pairwise_tukeyhsd\n",
        "import matplotlib.pyplot as plt\n",
        "import seaborn as sns\n",
        "from google.colab import files\n",
        "import warnings\n",
        "warnings.filterwarnings('ignore')\n",
        "\n",
        "print(\"Libraries imported successfully!\")"
      ]
    },
    {
      "cell_type": "code",
      "source": [
        "# Cell 2: Load and preview dataset\n",
        "# Make sure you have uploaded 'heart_failure_clinical_records_dataset.csv' into Colab\n",
        "df = pd.read_csv(\"/content/heart.csv\")\n",
        "\n",
        "# Normalize column names\n",
        "df.columns = [c.lower().replace(\" \", \"_\") for c in df.columns]\n",
        "\n",
        "# Quick look\n",
        "print(\"Shape:\", df.shape)\n",
        "print(\"Columns:\", df.columns.tolist())\n",
        "df.head()\n",
        "\n",
        "# Check read_csv\n",
        "print(\"Missing values:\\n\", df.isna().sum())\n",
        "\n",
        "# Drop duplicates if any\n",
        "df = df.drop_duplicates().reset_index(drop=True)\n",
        "\n",
        "# Add categorical helpers\n",
        "df['sex_label'] = df['sex'].map({0: 'female', 1: 'male'})\n",
        "df['age_group'] = pd.cut(df['age'], bins=[0,50,70,np.inf], labels=[\"<50\",\"50-70\",\">70\"], right=False)\n",
        "\n",
        "print(\"Preprocessing done!\")\n"
      ],
      "metadata": {
        "colab": {
          "base_uri": "https://localhost:8080/"
        },
        "id": "2MXPNTKZ2J4S",
        "outputId": "591ca81c-f2fc-46ff-dd30-2e7f9e16a828"
      },
      "execution_count": 4,
      "outputs": [
        {
          "output_type": "stream",
          "name": "stdout",
          "text": [
            "Shape: (918, 12)\n",
            "Columns: ['age', 'sex', 'chestpaintype', 'restingbp', 'cholesterol', 'fastingbs', 'restingecg', 'maxhr', 'exerciseangina', 'oldpeak', 'st_slope', 'heartdisease']\n",
            "Missing values:\n",
            " age               0\n",
            "sex               0\n",
            "chestpaintype     0\n",
            "restingbp         0\n",
            "cholesterol       0\n",
            "fastingbs         0\n",
            "restingecg        0\n",
            "maxhr             0\n",
            "exerciseangina    0\n",
            "oldpeak           0\n",
            "st_slope          0\n",
            "heartdisease      0\n",
            "dtype: int64\n",
            "Preprocessing done!\n"
          ]
        }
      ]
    },
    {
      "cell_type": "code",
      "source": [
        "# Cell 3: One-Sample T-Test for Cholesterol\n",
        "# Continuous variable to test\n",
        "var = 'cholesterol'\n",
        "reference_value = 200  # normal clinical value\n",
        "\n",
        "x = df[var].dropna()\n",
        "n = len(x)\n",
        "mean_val = x.mean()\n",
        "std_val = x.std(ddof=1)\n",
        "\n",
        "# One-sample t-test\n",
        "t_stat, p_val = stats.ttest_1samp(x, popmean=reference_value)\n",
        "\n",
        "print(\"=== One-Sample T-Test ===\")\n",
        "print(f\"Variable tested      : {var}\")\n",
        "print(f\"Sample size (n)      : {n}\")\n",
        "print(f\"Sample mean          : {mean_val:.2f}\")\n",
        "print(f\"Sample std. dev.     : {std_val:.2f}\")\n",
        "print(f\"Reference mean       : {reference_value}\")\n",
        "print(f\"T-statistic          : {t_stat:.3f}\")\n",
        "print(f\"P-value              : {p_val:.4f}\")\n",
        "\n",
        "# Interpretation\n",
        "alpha = 0.05\n",
        "if p_val < alpha:\n",
        "    print(f\"Result: Sample mean of '{var}' differs significantly from {reference_value} (reject H0).\")\n",
        "else:\n",
        "    print(f\"Result: No significant difference (fail to reject H0).\")\n"
      ],
      "metadata": {
        "colab": {
          "base_uri": "https://localhost:8080/"
        },
        "id": "zgxNsJLN3E42",
        "outputId": "f928d651-65ef-4003-8d55-d122a61335dd"
      },
      "execution_count": 8,
      "outputs": [
        {
          "output_type": "stream",
          "name": "stdout",
          "text": [
            "=== One-Sample T-Test ===\n",
            "Variable tested      : cholesterol\n",
            "Sample size (n)      : 918\n",
            "Sample mean          : 198.80\n",
            "Sample std. dev.     : 109.38\n",
            "Reference mean       : 200\n",
            "T-statistic          : -0.333\n",
            "P-value              : 0.7396\n",
            "Result: No significant difference (fail to reject H0).\n"
          ]
        }
      ]
    },
    {
      "cell_type": "code",
      "source": [
        "# Cell 4: Two-Sample T-Test (maxhr by sex)\n",
        "\n",
        "\n",
        "# Use lowercase column names (after cleaning)\n",
        "group_col = 'sex'        # categorical variable: male/female\n",
        "test_var = 'maxhr'       # continuous variable\n",
        "\n",
        "# Prepare groups\n",
        "g1 = df[df[group_col]==0][test_var].dropna()  # assuming 0=female\n",
        "g2 = df[df[group_col]==1][test_var].dropna()  # assuming 1=male\n",
        "\n",
        "# Check group sizes\n",
        "print(f\"Group sizes: {group_col}=0 -> {len(g1)}, {group_col}=1 -> {len(g2)}\")\n",
        "\n",
        "# Test for equal variances (Levene)\n",
        "levene_stat, levene_p = stats.levene(g1, g2)\n",
        "equal_var = levene_p > 0.05\n",
        "print(f\"Levene test for equal variances: stat={levene_stat:.3f}, p={levene_p:.4f} -> equal_var={equal_var}\")\n",
        "\n",
        "# Two-sample t-test\n",
        "t_stat, p_val = stats.ttest_ind(g1, g2, equal_var=equal_var)\n",
        "\n",
        "# Results\n",
        "print(\"\\n=== Two-Sample T-Test ===\")\n",
        "print(f\"Variable tested      : {test_var}\")\n",
        "print(f\"Grouping variable    : {group_col} (0=female, 1=male)\")\n",
        "print(f\"Mean group 0         : {g1.mean():.2f}\")\n",
        "print(f\"Mean group 1         : {g2.mean():.2f}\")\n",
        "print(f\"T-statistic          : {t_stat:.3f}\")\n",
        "print(f\"P-value              : {p_val:.4f}\")\n",
        "\n",
        "# Interpretation\n",
        "alpha = 0.05\n",
        "if p_val < alpha:\n",
        "    print(f\"Result: Significant difference in '{test_var}' between groups (reject H0).\")\n",
        "else:\n",
        "    print(f\"Result: No significant difference between groups (fail to reject H0).\")\n"
      ],
      "metadata": {
        "colab": {
          "base_uri": "https://localhost:8080/"
        },
        "id": "gzadzhvU47r2",
        "outputId": "44b79e24-c249-4e5f-b6ad-27145c75ed96"
      },
      "execution_count": 9,
      "outputs": [
        {
          "output_type": "stream",
          "name": "stdout",
          "text": [
            "Group sizes: sex=0 -> 0, sex=1 -> 0\n",
            "Levene test for equal variances: stat=nan, p=nan -> equal_var=False\n",
            "\n",
            "=== Two-Sample T-Test ===\n",
            "Variable tested      : maxhr\n",
            "Grouping variable    : sex (0=female, 1=male)\n",
            "Mean group 0         : nan\n",
            "Mean group 1         : nan\n",
            "T-statistic          : nan\n",
            "P-value              : nan\n",
            "Result: No significant difference between groups (fail to reject H0).\n"
          ]
        }
      ]
    },
    {
      "cell_type": "code",
      "source": [
        "# Cell 5: One-Way ANOVA (maxhr across chestpaintype)\n",
        "import statsmodels.api as sm\n",
        "from statsmodels.formula.api import ols\n",
        "from statsmodels.stats.multicomp import pairwise_tukeyhsd\n",
        "\n",
        "# Variables\n",
        "dependent_var = 'maxhr'\n",
        "factor_var = 'chestpaintype'\n",
        "\n",
        "# Prepare model\n",
        "model = ols(f'{dependent_var} ~ C({factor_var})', data=df).fit()\n",
        "\n",
        "# Perform ANOVA\n",
        "aov_table = sm.stats.anova_lm(model, typ=2)\n",
        "print(\"=== ANOVA Results ===\")\n",
        "print(aov_table)\n",
        "\n",
        "# Check significance\n",
        "alpha = 0.05\n",
        "if aov_table[\"PR(>F)\"][0] < alpha:\n",
        "    print(f\"\\nANOVA significant (p < {alpha}) -> Performing Tukey HSD post-hoc test\\n\")\n",
        "    tukey = pairwise_tukeyhsd(endog=df[dependent_var], groups=df[factor_var], alpha=0.05)\n",
        "    print(tukey.summary())\n",
        "else:\n",
        "    print(f\"\\nANOVA not significant (p >= {alpha}) -> No Tukey test needed\")\n"
      ],
      "metadata": {
        "colab": {
          "base_uri": "https://localhost:8080/"
        },
        "id": "TfARRc1Z5-RV",
        "outputId": "06d278b6-0f23-4f27-db35-9bd982c6a418"
      },
      "execution_count": 12,
      "outputs": [
        {
          "output_type": "stream",
          "name": "stdout",
          "text": [
            "=== ANOVA Results ===\n",
            "                         sum_sq     df         F        PR(>F)\n",
            "C(chestpaintype)   79522.267947    3.0  47.05307  2.786706e-28\n",
            "Residual          514903.371487  914.0       NaN           NaN\n",
            "\n",
            "ANOVA significant (p < 0.05) -> Performing Tukey HSD post-hoc test\n",
            "\n",
            " Multiple Comparison of Means - Tukey HSD, FWER=0.05 \n",
            "=====================================================\n",
            "group1 group2 meandiff p-adj   lower    upper  reject\n",
            "-----------------------------------------------------\n",
            "   ASY    ATA  21.7303    0.0  16.3363 27.1242   True\n",
            "   ASY    NAP  14.7586    0.0   9.6687 19.8485   True\n",
            "   ASY     TA  19.4135    0.0   9.9981 28.8289   True\n",
            "   ATA    NAP  -6.9716 0.0239 -13.2926 -0.6507   True\n",
            "   ATA     TA  -2.3168 0.9356 -12.4507  7.8172  False\n",
            "   NAP     TA   4.6549 0.6264  -5.3206 14.6303  False\n",
            "-----------------------------------------------------\n"
          ]
        }
      ]
    },
    {
      "cell_type": "code",
      "source": [
        "import seaborn as sns\n",
        "import matplotlib.pyplot as plt\n",
        "\n",
        "plt.figure(figsize=(8,5))\n",
        "sns.boxplot(x=factor_var, y=outcome_var, data=df)\n",
        "plt.title(f'{outcome_var} across {factor_var} groups')\n",
        "plt.xlabel(factor_var)\n",
        "plt.ylabel(outcome_var)\n",
        "plt.show()\n"
      ],
      "metadata": {
        "colab": {
          "base_uri": "https://localhost:8080/",
          "height": 443
        },
        "id": "UMRcjKFO6Cfr",
        "outputId": "946877cc-1293-4c01-8005-7d5c9e29d68a"
      },
      "execution_count": 13,
      "outputs": [
        {
          "output_type": "display_data",
          "data": {
            "text/plain": [
              "<Figure size 800x500 with 1 Axes>"
            ],
            "image/png": "[encoded data removed]"
          },
          "metadata": {}
        }
      ]
    }
  ]
}